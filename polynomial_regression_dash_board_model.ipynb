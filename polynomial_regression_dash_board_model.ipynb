{
  "nbformat": 4,
  "nbformat_minor": 0,
  "metadata": {
    "colab": {
      "provenance": []
    },
    "kernelspec": {
      "name": "python3",
      "display_name": "Python 3"
    },
    "language_info": {
      "name": "python"
    }
  },
  "cells": [
    {
      "cell_type": "code",
      "source": [
        "!pip install dash\n",
        "import numpy as np\n",
        "import pandas as pd\n",
        "from sklearn.preprocessing import PolynomialFeatures\n",
        "from sklearn.linear_model import LinearRegression\n",
        "from dash import Dash, html, dcc, Input, Output\n",
        "import plotly.graph_objs as go"
      ],
      "metadata": {
        "colab": {
          "base_uri": "https://localhost:8080/"
        },
        "id": "RC1upmPhppbX",
        "outputId": "6f1427d1-4852-49d6-e7a8-1407176c59e1"
      },
      "execution_count": 5,
      "outputs": [
        {
          "output_type": "stream",
          "name": "stdout",
          "text": [
            "Requirement already satisfied: dash in /usr/local/lib/python3.12/dist-packages (3.2.0)\n",
            "Requirement already satisfied: Flask<3.2,>=1.0.4 in /usr/local/lib/python3.12/dist-packages (from dash) (3.1.2)\n",
            "Requirement already satisfied: Werkzeug<3.2 in /usr/local/lib/python3.12/dist-packages (from dash) (3.1.3)\n",
            "Requirement already satisfied: plotly>=5.0.0 in /usr/local/lib/python3.12/dist-packages (from dash) (5.24.1)\n",
            "Requirement already satisfied: importlib-metadata in /usr/local/lib/python3.12/dist-packages (from dash) (8.7.0)\n",
            "Requirement already satisfied: typing-extensions>=4.1.1 in /usr/local/lib/python3.12/dist-packages (from dash) (4.15.0)\n",
            "Requirement already satisfied: requests in /usr/local/lib/python3.12/dist-packages (from dash) (2.32.4)\n",
            "Requirement already satisfied: retrying in /usr/local/lib/python3.12/dist-packages (from dash) (1.4.2)\n",
            "Requirement already satisfied: nest-asyncio in /usr/local/lib/python3.12/dist-packages (from dash) (1.6.0)\n",
            "Requirement already satisfied: setuptools in /usr/local/lib/python3.12/dist-packages (from dash) (75.2.0)\n",
            "Requirement already satisfied: blinker>=1.9.0 in /usr/local/lib/python3.12/dist-packages (from Flask<3.2,>=1.0.4->dash) (1.9.0)\n",
            "Requirement already satisfied: click>=8.1.3 in /usr/local/lib/python3.12/dist-packages (from Flask<3.2,>=1.0.4->dash) (8.3.0)\n",
            "Requirement already satisfied: itsdangerous>=2.2.0 in /usr/local/lib/python3.12/dist-packages (from Flask<3.2,>=1.0.4->dash) (2.2.0)\n",
            "Requirement already satisfied: jinja2>=3.1.2 in /usr/local/lib/python3.12/dist-packages (from Flask<3.2,>=1.0.4->dash) (3.1.6)\n",
            "Requirement already satisfied: markupsafe>=2.1.1 in /usr/local/lib/python3.12/dist-packages (from Flask<3.2,>=1.0.4->dash) (3.0.3)\n",
            "Requirement already satisfied: tenacity>=6.2.0 in /usr/local/lib/python3.12/dist-packages (from plotly>=5.0.0->dash) (8.5.0)\n",
            "Requirement already satisfied: packaging in /usr/local/lib/python3.12/dist-packages (from plotly>=5.0.0->dash) (25.0)\n",
            "Requirement already satisfied: zipp>=3.20 in /usr/local/lib/python3.12/dist-packages (from importlib-metadata->dash) (3.23.0)\n",
            "Requirement already satisfied: charset_normalizer<4,>=2 in /usr/local/lib/python3.12/dist-packages (from requests->dash) (3.4.3)\n",
            "Requirement already satisfied: idna<4,>=2.5 in /usr/local/lib/python3.12/dist-packages (from requests->dash) (3.10)\n",
            "Requirement already satisfied: urllib3<3,>=1.21.1 in /usr/local/lib/python3.12/dist-packages (from requests->dash) (2.5.0)\n",
            "Requirement already satisfied: certifi>=2017.4.17 in /usr/local/lib/python3.12/dist-packages (from requests->dash) (2025.8.3)\n"
          ]
        }
      ]
    },
    {
      "cell_type": "code",
      "source": [
        "# --- Generate a larger dataset (50 points) ---\n",
        "np.random.seed(42)  # reproducibility\n",
        "marketing_spend = np.linspace(50, 500, 50)\n",
        "profit = 5 * marketing_spend + 200 + np.random.normal(0, 200, 50)  # linear-ish with noise\n",
        "\n",
        "dataset = pd.DataFrame({\n",
        "    'Marketing Spend': marketing_spend,\n",
        "    'Profit': profit\n",
        "})\n",
        "x = dataset[['Marketing Spend']].values\n",
        "y = dataset['Profit'].values\n",
        "\n",
        "# --- Define model ---\n",
        "def define_model(degree):\n",
        "    poly_reg = PolynomialFeatures(degree)\n",
        "    x_poly = poly_reg.fit_transform(x)\n",
        "    lin_reg = LinearRegression()\n",
        "    lin_reg.fit(x_poly, y)\n",
        "    return lin_reg, poly_reg\n",
        "\n",
        "def predict_value(lin_reg, poly_reg, spend):\n",
        "    spend_poly = poly_reg.transform([[spend]])\n",
        "    return lin_reg.predict(spend_poly)[0]\n",
        "\n",
        "# --- Dash App ---\n",
        "app = Dash(__name__)\n",
        "app.layout = html.Div([\n",
        "    html.H1(\"Actual vs Predicted Profits in One Graph\"),\n",
        "\n",
        "    html.Div([\n",
        "        html.Label(\"Enter the Marketing Spend:\"),\n",
        "        dcc.Input(id='spend_input', type='number', value=100, step=10),\n",
        "    ], style={'marginBottom':20}),\n",
        "\n",
        "    html.Div([\n",
        "        html.Label(\"Select a Polynomial Degree:\"),\n",
        "        dcc.Dropdown(id='dropdown',\n",
        "            options=[{'label': str(d), 'value': d} for d in range(1,7)],\n",
        "            value=4,\n",
        "            clearable=False),\n",
        "    ], style={'marginBottom':20, 'width':'40%'}),\n",
        "\n",
        "    dcc.Graph(id='poly_graph'),\n",
        "    html.Div(id='prediction_text', style={'marginTop':20, 'fontSize':20, 'color':'blue'})\n",
        "])\n",
        "\n",
        "# --- Callback ---\n",
        "@app.callback(\n",
        "    [Output('poly_graph', 'figure'),\n",
        "     Output('prediction_text', 'children')],\n",
        "    [Input('spend_input', 'value'),\n",
        "     Input('dropdown', 'value')]\n",
        ")\n",
        "def update_graph(spend_val, degree):\n",
        "    if spend_val is None:\n",
        "        spend_val = 100\n",
        "\n",
        "    lin_reg, poly_reg = define_model(degree)\n",
        "    predicted_profit = predict_value(lin_reg, poly_reg, spend_val)\n",
        "\n",
        "    # Range for smooth polynomial line\n",
        "    x_range = np.linspace(x.min(), x.max(), 200).reshape(-1, 1)\n",
        "    y_pred = lin_reg.predict(poly_reg.transform(x_range))\n",
        "\n",
        "    # --- Single Graph: Scatter + Line ---\n",
        "    fig = go.Figure()\n",
        "\n",
        "    # Actual data (scatter)\n",
        "    fig.add_trace(go.Scatter(\n",
        "        x=dataset['Marketing Spend'], y=dataset['Profit'],\n",
        "        mode='markers',\n",
        "        marker=dict(color='red', size=10, line=dict(width=1, color='black')),\n",
        "        name=\"Actual Profit\"\n",
        "    ))\n",
        "\n",
        "    # Polynomial regression line\n",
        "    fig.add_trace(go.Scatter(\n",
        "        x=x_range.ravel(), y=y_pred,\n",
        "        mode='lines',\n",
        "        line=dict(color='blue', width=2),\n",
        "        name=f\"Polynomial Fit (deg={degree})\"\n",
        "    ))\n",
        "\n",
        "    # Prediction point\n",
        "    fig.add_trace(go.Scatter(\n",
        "        x=[spend_val], y=[predicted_profit],\n",
        "        mode='markers+text',\n",
        "        text=[f\"{predicted_profit:.2f}k\"],\n",
        "        textposition=\"top center\",\n",
        "        marker=dict(color='green', size=12, symbol=\"diamond\"),\n",
        "        name=\"Prediction\"\n",
        "    ))\n",
        "\n",
        "    # Layout\n",
        "    fig.update_layout(\n",
        "        title=\"Actual vs Predicted Profit\",\n",
        "        xaxis_title=\"Marketing Spend ($k)\",\n",
        "        yaxis_title=\"Profit ($k)\",\n",
        "        width=900, height=500,\n",
        "        legend=dict(x=0.05, y=0.95)\n",
        "    )\n",
        "\n",
        "    return fig, f\"Predicted profit for spend = {spend_val}k with degree {degree} : {predicted_profit:.2f}k\"\n",
        "\n",
        "# --- Run app ---\n",
        "if __name__ == '__main__':\n",
        "    app.run(debug=True)\n",
        "\n"
      ],
      "metadata": {
        "colab": {
          "base_uri": "https://localhost:8080/",
          "height": 672
        },
        "id": "HffH1qHBgjcg",
        "outputId": "41b78610-f53d-4e6c-db19-63a3762592c9"
      },
      "execution_count": 6,
      "outputs": [
        {
          "output_type": "display_data",
          "data": {
            "text/plain": [
              "<IPython.core.display.Javascript object>"
            ],
            "application/javascript": [
              "(async (port, path, width, height, cache, element) => {\n",
              "    if (!google.colab.kernel.accessAllowed && !cache) {\n",
              "      return;\n",
              "    }\n",
              "    element.appendChild(document.createTextNode(''));\n",
              "    const url = await google.colab.kernel.proxyPort(port, {cache});\n",
              "    const iframe = document.createElement('iframe');\n",
              "    iframe.src = new URL(path, url).toString();\n",
              "    iframe.height = height;\n",
              "    iframe.width = width;\n",
              "    iframe.style.border = 0;\n",
              "    iframe.allow = [\n",
              "        'accelerometer',\n",
              "        'autoplay',\n",
              "        'camera',\n",
              "        'clipboard-read',\n",
              "        'clipboard-write',\n",
              "        'gyroscope',\n",
              "        'magnetometer',\n",
              "        'microphone',\n",
              "        'serial',\n",
              "        'usb',\n",
              "        'xr-spatial-tracking',\n",
              "    ].join('; ');\n",
              "    element.appendChild(iframe);\n",
              "  })(8050, \"/\", \"100%\", 650, false, window.element)"
            ]
          },
          "metadata": {}
        }
      ]
    }
  ]
}